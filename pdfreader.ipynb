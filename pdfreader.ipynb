{
 "cells": [
  {
   "cell_type": "code",
   "execution_count": null,
   "metadata": {},
   "outputs": [],
   "source": [
    "import os\n",
    "from langchain.document_loaders import PyPDFLoader\n",
    "\n",
    "# read api key from openai.txt\n",
    "with open('./openai.txt', 'r') as f:\n",
    "    api_key = f.read()\n",
    "os.environ[\"OPENAI_API_KEY\"] = api_key\n",
    "\n",
    "pdf_loader = PyPDFLoader('./data/whitepaper.pdf')\n",
    "documents = pdf_loader.load()"
   ]
  }
 ],
 "metadata": {
  "language_info": {
   "name": "python"
  }
 },
 "nbformat": 4,
 "nbformat_minor": 2
}
